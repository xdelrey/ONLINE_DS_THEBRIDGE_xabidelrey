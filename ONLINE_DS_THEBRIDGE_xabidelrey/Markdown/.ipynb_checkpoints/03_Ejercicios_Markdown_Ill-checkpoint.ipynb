{
 "cells": [
  {
   "cell_type": "markdown",
   "id": "59ec229f",
   "metadata": {
    "id": "59ec229f"
   },
   "source": [
    "<img src=\"https://www.aicareers.es/wp-content/uploads/2023/09/TheBridge_logo_RGB_color-1024x484.png\" width = 500>"
   ]
  },
  {
   "cell_type": "markdown",
   "id": "f02a41ce-e61a-4bbb-8492-f5cfcc9a6d30",
   "metadata": {},
   "source": [
    "**Repositorio en Github:** <span style=\"background-color:yellow\">[https://github.com/xdelrey/ONLINE_DS_THEBRIDGE_xabidelrey](https://github.com/xdelrey/ONLINE_DS_THEBRIDGE_xabidelrey/tree/f47f2b6462f4f4cb0d9d914cc700d08adf6828a7/Markdown)</span>"
   ]
  },
  {
   "cell_type": "markdown",
   "id": "30a2c01b",
   "metadata": {
    "id": "30a2c01b"
   },
   "source": [
    "# EJERCICIOS MARKDOWN (I)"
   ]
  },
  {
   "cell_type": "markdown",
   "id": "e165fb0c",
   "metadata": {
    "id": "e165fb0c"
   },
   "source": [
    "Aquí tienes cinco sencillos ejercicios para practicar lo aprendido en la primera sesión de Markdown. Utiliza las celdas que hay debajo dec cada enunciado y recuerda convertirlas a Markdown primero ;-)"
   ]
  },
  {
   "cell_type": "markdown",
   "id": "5f74096f",
   "metadata": {
    "id": "5f74096f"
   },
   "source": [
    "\n",
    "\n",
    "### Ejercicio 1: Cabeceras\n",
    "Crea las siguientes cabeceras:\n",
    "\n",
    "1. Una cabecera de nivel 1 con el texto \"Ciencia de Datos\".\n",
    "2. Una cabecera de nivel 2 con el texto \"Introducción\".\n",
    "3. Una cabecera de nivel 3 con el texto \"Herramientas\"."
   ]
  },
  {
   "cell_type": "markdown",
   "id": "rrDvHrYAhg2s",
   "metadata": {
    "id": "rrDvHrYAhg2s"
   },
   "source": [
    "`RESPUESTA:`\n",
    "# Ciencia de Datos\n",
    "## Introducción\n",
    "### Herramientas\n",
    "\n",
    "---"
   ]
  },
  {
   "cell_type": "markdown",
   "id": "4b636168",
   "metadata": {
    "id": "4b636168"
   },
   "source": [
    "### Ejercicio 2: Estilos de texto\n",
    "Escribe una frase que contenga las siguientes características:\n",
    "\n",
    "1. La palabra \"Markdown\" en negritas.\n",
    "2. La palabra \"Jupyter\" en cursivas.\n",
    "3. La palabra \"Python\" en negritas y cursivas."
   ]
  },
  {
   "cell_type": "markdown",
   "id": "daff0981-5c1b-407e-9924-7c778ab181ef",
   "metadata": {},
   "source": [
    "`RESPUESTA:`  \n",
    "En *Jupyter* Notebook puedes crear documentos que contengan textos con estilos con **Markdown** y ejecutar código ***Python***.\n",
    "\n",
    "---"
   ]
  },
  {
   "cell_type": "markdown",
   "id": "61fd2979",
   "metadata": {
    "id": "61fd2979"
   },
   "source": [
    "### Ejercicio 3: Resaltados y HTML\n",
    "Crea una línea que contenga:\n",
    "\n",
    "1. La palabra \"resaltado\" con un fondo amarillo usando Markdown.\n",
    "2. La palabra \"color\" en azul usando HTML.\n",
    "\n",
    "Para este ejercicio tendrás que buscar un poco más en internet, venga que tú puedes."
   ]
  },
  {
   "cell_type": "markdown",
   "id": "9c1518a3-847c-494b-b917-e4d628e71055",
   "metadata": {},
   "source": [
    "`RESPUESTA:`  \n",
    "\n",
    "Este texto está ==resaltado== en amarillo?* No parece que funcione en Jupyter Notebook... tan sólo si utilizamos <mark>html<mark>.  \n",
    "\n",
    "De la misma manera, sólo utilizando **html** podemos hacer que un <span style=\"color: blue\">texto se muestre en azul</span>.  \n",
    "\n",
    "\\* *Fuente de este método para resaltar: [Markdown Guide |Extended Syntax](https://www.markdownguide.org/extended-syntax/)*"
   ]
  },
  {
   "cell_type": "markdown",
   "id": "a91386ca",
   "metadata": {
    "id": "a91386ca"
   },
   "source": [
    "### Ejercicio 4: Citas\n",
    "Incluye la siguiente cita:\n",
    "\n",
    "> La Ciencia de Datos es el petróleo del siglo XXI.\n",
    "\n",
    "En uno y dos niveles de cita"
   ]
  },
  {
   "cell_type": "markdown",
   "id": "2796beb6-cf60-4f84-a5d5-990b7111b132",
   "metadata": {},
   "source": [
    "`RESPUESTA:`  \n",
    "> La Ciencia de Datos es el petróleo del siglo XXI.\n",
    "> > La Ciencia de Datos es el petróleo del siglo XXI."
   ]
  },
  {
   "cell_type": "markdown",
   "id": "35f0595a",
   "metadata": {
    "id": "35f0595a"
   },
   "source": [
    "### Ejercicio 5: Combinando todo\n",
    "Crea un texto que combine lo siguiente:\n",
    "\n",
    "1. Una cabecera de nivel 2 con el texto \"Curso de Markdown\".\n",
    "2. Una frase que contenga la palabra \"importante\" en negritas.\n",
    "3. Una cita que diga: \"Aprender es crecer\".\n",
    "4. La palabra \"ejemplo\" en cursivas y con un fondo verde usando HTML.\n",
    "\n",
    "Nota: Si no has sido capaz de encontrar como dar color de fondo usando HTML quizás <span style=\"background-color:yellow\">*tienes que buscar más cerca de ti*</span>\n"
   ]
  },
  {
   "cell_type": "markdown",
   "id": "c2da0500-8813-4126-ae2d-9fd85766cd33",
   "metadata": {},
   "source": [
    "## Curso de Markdown\n",
    "\n",
    "Hay que tener presente algo muy **importante**:  \n",
    "> Aprender es crecer\n",
    "\n",
    "<span style=\"background-color:lightgreen;\">*ejemplo*</span>"
   ]
  }
 ],
 "metadata": {
  "colab": {
   "provenance": []
  },
  "kernelspec": {
   "display_name": "Python 3 (ipykernel)",
   "language": "python",
   "name": "python3"
  },
  "language_info": {
   "codemirror_mode": {
    "name": "ipython",
    "version": 3
   },
   "file_extension": ".py",
   "mimetype": "text/x-python",
   "name": "python",
   "nbconvert_exporter": "python",
   "pygments_lexer": "ipython3",
   "version": "3.10.11"
  }
 },
 "nbformat": 4,
 "nbformat_minor": 5
}
