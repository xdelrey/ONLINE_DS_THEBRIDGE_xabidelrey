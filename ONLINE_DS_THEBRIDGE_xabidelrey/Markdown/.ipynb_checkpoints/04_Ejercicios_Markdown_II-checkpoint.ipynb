{
 "cells": [
  {
   "cell_type": "markdown",
   "id": "c49ba49d",
   "metadata": {
    "id": "c49ba49d"
   },
   "source": [
    "<img src=\"https://www.aicareers.es/wp-content/uploads/2023/09/TheBridge_logo_RGB_color-1024x484.png\" width = 500>"
   ]
  },
  {
   "cell_type": "markdown",
   "id": "33e15137-8129-4b81-a837-7bf23d3e817b",
   "metadata": {},
   "source": [
    "**Repositorio en Github:** <span style=\"background-color:yellow\">[https://github.com/xdelrey/ONLINE_DS_THEBRIDGE_xabidelrey](https://github.com/xdelrey/ONLINE_DS_THEBRIDGE_xabidelrey/tree/f47f2b6462f4f4cb0d9d914cc700d08adf6828a7/Markdown)</span>"
   ]
  },
  {
   "cell_type": "markdown",
   "id": "22ff8a1a",
   "metadata": {
    "id": "22ff8a1a"
   },
   "source": [
    "# EJERCICIOS MARKDOWN (II)"
   ]
  },
  {
   "cell_type": "markdown",
   "id": "d626df26",
   "metadata": {
    "id": "d626df26"
   },
   "source": [
    "Aquí tienes cinco sencillos ejercicios para practicar lo aprendido en la segundasesión de Markdown. Como en el anterior, utiliza las celdas que hay debajo dec cada enunciado y recuerda convertirlas a Markdown primero ;-)\n",
    "\n",
    "Si algunos ejercicios no los entiendes de primeras, dales una vuelta, busca pistas, busca en Internet... pero todavía no le preguntes a ChatGPT... Recuerda con dudas teóricas corre a preguntar, con los ejercicios exprimete antes de preguntar."
   ]
  },
  {
   "cell_type": "markdown",
   "id": "b2efd92f",
   "metadata": {
    "id": "b2efd92f"
   },
   "source": [
    "### Ejercicio 6: Listas\n",
    "Crea una lista no ordenada con los siguientes elementos:\n",
    "\n",
    "1. Manzanas\n",
    "2. Plátanos\n",
    "3. Uvas"
   ]
  },
  {
   "cell_type": "markdown",
   "id": "28b66344-c2ad-43f4-a954-06f64479b24a",
   "metadata": {},
   "source": [
    "`RESPUESTA`\n",
    "- Manzanas\n",
    "- Plátanos\n",
    "- Uvas\n"
   ]
  },
  {
   "cell_type": "markdown",
   "id": "c8c2ff80",
   "metadata": {
    "id": "c8c2ff80"
   },
   "source": [
    "Crea ahora una lista ordenada de 1 a 3 y que además lo esté alfabéticamente con estos elementos:\n",
    "\n",
    "    * Arbol binario\n",
    "    * Random Forest\n",
    "    * Regresión Logística"
   ]
  },
  {
   "cell_type": "markdown",
   "id": "5584c84a-27ad-4530-b81b-76464f90514f",
   "metadata": {},
   "source": [
    "`RESPUESTA`\n",
    "1. Árbol binario\n",
    "2. Random Forest\n",
    "3. Regresión Logística\n",
    "\n",
    "---"
   ]
  },
  {
   "cell_type": "markdown",
   "id": "2c65c04a",
   "metadata": {
    "id": "2c65c04a"
   },
   "source": [
    "### Ejercicio 7: Listas Anidadas\n",
    "Bajo el título \"Frutas y Verduras\", crea una lista ordenada de frutas, y dentro de esta, anida una lista no ordenada de tres frutas. Luego, crea otra lista ordenada de verduras y anida dentro de ella una lista no ordenada de tres verduras.\n",
    "\n",
    "Las listas anidadas no las hemos visto pero seguro que con esto te haces una idea, como con los subrayados en los ejercicios de la primera parte:\n",
    "1. El elemento con orden\n",
    "* Aquí sin orden\n",
    "2. El siguiente\n",
    "* Pico\n",
    "* Pala\n"
   ]
  },
  {
   "cell_type": "markdown",
   "id": "83dff1fc-c5a0-4ffe-84a4-1fb33f81f0f9",
   "metadata": {},
   "source": [
    "`RESPUESTA`  \n",
    "### Frutas y Verduras\n",
    "1. Naranjas\n",
    "2. Peras\n",
    "    - Pera Conferencia\n",
    "    - Pera Blanquilla\n",
    "    - Pera Ercolina\n",
    "3. Manzanas\n",
    "---\n",
    "1. Coliflor\n",
    "    * Repollo\n",
    "    * Romanescu\n",
    "    * Brócoli\n",
    "2. Acelga\n",
    "3. Puerros"
   ]
  },
  {
   "cell_type": "markdown",
   "id": "e224fbf7",
   "metadata": {
    "id": "e224fbf7"
   },
   "source": [
    "### Ejercicio 8: Enlaces e Imágenes\n",
    "Inserta:\n",
    "\n",
    "1. Un enlace que lleve a \"www.thebridge.com\" con el texto \"Por aquí se cruzan puentes\".\n",
    "2. Una imagen de cualquier URL con el texto alternativo \"Logo\". Recuerda que puedes hacerlo referenciando la imagen a través de su ruta en tu ordenador, o bien incrustandola en el notebook\n"
   ]
  },
  {
   "attachments": {
    "9938a1ee-2943-4507-a5ee-cc43439151b2.png": {
     "image/png": "[encoded data removed]"
    }
   },
   "cell_type": "markdown",
   "id": "0b70d7fa-c3e6-4517-8cfd-9f05af619d6f",
   "metadata": {},
   "source": [
    "`RESPUESTA`  \n",
    "[Por aquí se cruzan puentes](https://www.thebridge.com)  \n",
    "![Logo](attachment:9938a1ee-2943-4507-a5ee-cc43439151b2.png)  \n",
    "![Logo](.\\error.png)"
   ]
  },
  {
   "cell_type": "markdown",
   "id": "94e48fe3",
   "metadata": {
    "id": "94e48fe3"
   },
   "source": [
    "### Ejercicio 9: Líneas Horizontales y Bloques de Código\n",
    "Inserta:\n",
    "\n",
    "1. Un bloque de código en Python que imprima \"Hola Mundo\" (pista: print(\"Hola Mundo\")) entre dos líneas horizontales, cada una creada con un método diferente."
   ]
  },
  {
   "cell_type": "markdown",
   "id": "4d644475-5234-4732-9d19-0eab4443d753",
   "metadata": {},
   "source": [
    "`RESPUESTA`\n",
    "\n",
    "---\n",
    "\n",
    "```Python\n",
    "print(\"Hola Mundo\")\n",
    "```\n",
    "\n",
    "***"
   ]
  }
 ],
 "metadata": {
  "colab": {
   "provenance": []
  },
  "kernelspec": {
   "display_name": "Python 3 (ipykernel)",
   "language": "python",
   "name": "python3"
  },
  "language_info": {
   "codemirror_mode": {
    "name": "ipython",
    "version": 3
   },
   "file_extension": ".py",
   "mimetype": "text/x-python",
   "name": "python",
   "nbconvert_exporter": "python",
   "pygments_lexer": "ipython3",
   "version": "3.10.11"
  }
 },
 "nbformat": 4,
 "nbformat_minor": 5
}
