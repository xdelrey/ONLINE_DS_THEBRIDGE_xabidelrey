{
 "cells": [
  {
   "cell_type": "code",
   "execution_count": 1,
   "id": "92019cd1-bc81-4cc7-b55a-ae0f6206a391",
   "metadata": {},
   "outputs": [
    {
     "name": "stdout",
     "output_type": "stream",
     "text": [
      "Hola Mundo\n"
     ]
    }
   ],
   "source": [
    "print (\"Hola Mundo\")"
   ]
  },
  {
   "cell_type": "markdown",
   "id": "5ee73d9c-6a0f-4064-ba2c-c001eaa8758e",
   "metadata": {},
   "source": [
    "Hola Mundo"
   ]
  },
  {
   "cell_type": "markdown",
   "id": "bd2d21f0-2521-4005-b804-93c9cc54b2f9",
   "metadata": {},
   "source": [
    "# Markdown!"
   ]
  },
  {
   "cell_type": "markdown",
   "id": "f68adc83",
   "metadata": {},
   "source": [
    "Probando también desde **Visual Studio Code**"
   ]
  }
 ],
 "metadata": {
  "kernelspec": {
   "display_name": "Python 3",
   "language": "python",
   "name": "python3"
  },
  "language_info": {
   "codemirror_mode": {
    "name": "ipython",
    "version": 3
   },
   "file_extension": ".py",
   "mimetype": "text/x-python",
   "name": "python",
   "nbconvert_exporter": "python",
   "pygments_lexer": "ipython3",
   "version": "3.10.11"
  }
 },
 "nbformat": 4,
 "nbformat_minor": 5
}
