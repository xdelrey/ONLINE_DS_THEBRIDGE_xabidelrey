{
  "cells": [
    {
      "cell_type": "markdown",
      "metadata": {
        "colab_type": "text",
        "id": "view-in-github"
      },
      "source": [
        "<a href=\"https://colab.research.google.com/github/xdelrey/fundamentals/blob/master/Parte_3_P%C3%ADldora_9_Jupyter_DS_01_01_02_N05_V09.ipynb\" target=\"_parent\"><img src=\"https://colab.research.google.com/assets/colab-badge.svg\" alt=\"Open In Colab\"/></a>"
      ]
    },
    {
      "cell_type": "markdown",
      "metadata": {
        "id": "I8h4IuJgoKLm"
      },
      "source": [
        "<img src = \"./img/TheBridge_logo_RGB_color.jpg\" width = 500>\n",
        "<img src = \"./img/python.jpg\" width = 500>"
      ]
    },
    {
      "cell_type": "markdown",
      "metadata": {
        "id": "F41SClzuoKLp"
      },
      "source": [
        "# Python Basics I"
      ]
    },
    {
      "cell_type": "markdown",
      "metadata": {
        "id": "E7wK4n6yoKLq"
      },
      "source": [
        "# Contenidos"
      ]
    },
    {
      "cell_type": "markdown",
      "metadata": {
        "id": "RMO41XHQoKLq"
      },
      "source": [
        "* [Operaciones aritméticas\n",
        "](#Operaciones-aritméticas\n",
        ")\n",
        "\n",
        "* [Operaciones comparativas\n",
        "](#Operaciones-comparativas\n",
        ")\n",
        "\n"
      ]
    },
    {
      "cell_type": "markdown",
      "metadata": {
        "id": "TeGihBlQoKLq"
      },
      "source": [
        "## Operaciones aritméticas\n",
        "[al indice](#Contenidos)  \n",
        "\n",
        "Hace un par de sesiones ya vimos por encima las principales operaciones aritméticas en Python. Las recordamos:\n",
        "* Sumar: `+`\n",
        "* Restar: `-`\n",
        "* Multiplicar: `*`\n",
        "* Dividir: `/`\n",
        "* Elevar: `**`\n",
        "* Cociente division: `//`\n",
        "* Resto de la división: `%`"
      ]
    },
    {
      "cell_type": "code",
      "execution_count": null,
      "metadata": {
        "id": "CSBcezyDoKLr"
      },
      "outputs": [
        {
          "name": "stdout",
          "output_type": "stream",
          "text": [
            "Sumamos 3 y 22.2 : 25.2\n",
            "<class 'float'>\n",
            "Multiplicamos: 66.6 <class 'float'>\n",
            "Elevamos: 10941.047999999999 <class 'float'>\n",
            "división: 7.3999999999999995 resto: 1.1999999999999993 cociente: 7.0\n"
          ]
        }
      ],
      "source": [
        "# Declarar y asignar una variable entera\n",
        "entero = 3\n",
        "# Declarar y asignar una variable real o float\n",
        "real = 22.2\n",
        "# Sumar las variables y mostrar el resultado\n",
        "sumar = entero + real\n",
        "print(\"Sumamos\",entero,\"y\",real,\":\",sumar)\n",
        "# Mostrar de qué tipo es el resultado\n",
        "print(type(sumar))\n",
        "# Multiplicar ambas variables y mostrar el resultado\n",
        "multiplicar = entero * real\n",
        "print(\"Multiplicamos:\",multiplicar, type(multiplicar))\n",
        "# Elevar una a la otr\n",
        "elevar = real ** entero\n",
        "print(\"Elevamos:\", elevar, type(elevar))\n",
        "# Dividir una por otra y mostrar además el resto y el cociente\n",
        "dividir = real / entero\n",
        "resto = real % entero\n",
        "cociente = real // entero\n",
        "print(\"división:\", dividir, \"resto:\", resto, \"cociente:\", cociente)"
      ]
    },
    {
      "cell_type": "code",
      "execution_count": null,
      "metadata": {
        "id": "e97DCNrkoKLs"
      },
      "outputs": [],
      "source": []
    },
    {
      "cell_type": "markdown",
      "metadata": {
        "id": "HuUepLLcoKLs"
      },
      "source": [
        "### Propiedad conmutativa, asociativa, distributiva y el paréntesis\n",
        "Si queremos concatenar varias operaciones, ten siempre en cuenta las propiedades matemáticas de la multiplicación"
      ]
    },
    {
      "cell_type": "code",
      "execution_count": 4,
      "metadata": {
        "id": "AjehYKomoKLs"
      },
      "outputs": [
        {
          "name": "stdout",
          "output_type": "stream",
          "text": [
            "Conmutativa\n",
            "6\n",
            "6\n",
            "\n",
            "Asociativa\n",
            "30\n",
            "30\n",
            "\n",
            "Distributiva\n",
            "16\n",
            "16\n",
            "\n",
            "El Orden de operaciones se mantiene. Siempre podemos usar paréntesis\n",
            "50\n",
            "1.7272727272727273\n"
          ]
        }
      ],
      "source": [
        "print(\"Conmutativa\")\n",
        "print(2 * 3)\n",
        "print(3 * 2)\n",
        "\n",
        "print(\"\\nAsociativa\") # Recuerda que \"\\n\" se usa para que haya un salto de linea en el output.\n",
        "print((3 * 2) * 5)\n",
        "print(3 * (2 * 5))\n",
        "\n",
        "print(\"\\nDistributiva\")\n",
        "print(2 * (3 + 5))\n",
        "print(2 * 3 + 2 * 5)\n",
        "\n",
        "print(\"\\nEl Orden de operaciones se mantiene. Siempre podemos usar paréntesis\")\n",
        "print(2 * (2 + 3) * 5)\n",
        "print((2 * 2 + 3 * 5)/(4 + 7))"
      ]
    },
    {
      "cell_type": "markdown",
      "metadata": {
        "id": "qEPRTSfsoKLt"
      },
      "source": [
        "### Operaciones más complejas\n",
        "Si salimos de las operaciones básicas de Python, tendremos que importar módulos con más funcionalidades en nuestro código. Esto lo haremos mediante la sentencia `import math`. `math` es un módulo con funciones ya predefinidas, que no vienen por defecto en el núcleo de Python. De esta forma será posible hacer cálculos más complejos como:\n",
        "\n",
        "* Raíz cuadrada\n",
        "* Seno/Coseno\n",
        "* Valor absoluto\n",
        "*...\n",
        "\n",
        "El módulo es completísimo y si estás buscando alguna operación matemática, lo más seguro es que ya esté implementada. Te dejo por aquí el [link a la documentación del módulo.](https://docs.python.org/3/library/math.html)."
      ]
    },
    {
      "cell_type": "code",
      "execution_count": 5,
      "metadata": {
        "id": "PmVtyAM_oKLt"
      },
      "outputs": [
        {
          "name": "stdout",
          "output_type": "stream",
          "text": [
            "5.0\n",
            "1.0\n",
            "123.45\n"
          ]
        }
      ],
      "source": [
        "import math\n",
        "print(math.sqrt(25))\n",
        "print(math.cos(0))\n",
        "print(math.fabs(-123.45)) # igual que abs de python"
      ]
    },
    {
      "cell_type": "markdown",
      "metadata": {
        "id": "Jrw5Hx5OoKLt"
      },
      "source": [
        "Como en todos los lenguajes de programación, suele haber una serie de componentes básicos (variables, operaciones aritméticas, tipos de datos...) con los que podemos hacer muchas cosas. Ahora bien, si queremos ampliar esas funcionalidades, se suelen importar nuevos módulos, con funciones ya hechas de otros usuarios, como en el caso del módulo `math`. Veremos esto de los módulos más adelante."
      ]
    },
    {
      "cell_type": "markdown",
      "metadata": {
        "id": "kk4Gww2woKLt"
      },
      "source": [
        "<table align=\"left\">\n",
        " <tr><td width=\"80\"><img src=\"./img/error.png\" style=\"width:auto;height:auto\"></td>\n",
        "     <td style=\"text-align:left\">\n",
        "         <h3>ERRORES Dividir por cero</h3>\n",
        "         \n",
        " </td></tr>\n",
        "</table>"
      ]
    },
    {
      "cell_type": "markdown",
      "metadata": {
        "id": "htfXb3XQoKLt"
      },
      "source": [
        "Cuidado cuando operamos con 0s. Las indeterminaciones y valores infinitos suponen errores en el código. Por suerte, la descripción de estos errores es bastante explícita, obteniendo un error de tipo `ZeroDivisionError`"
      ]
    },
    {
      "cell_type": "code",
      "execution_count": 6,
      "metadata": {
        "id": "4Shk5GmwoKLt"
      },
      "outputs": [
        {
          "ename": "ZeroDivisionError",
          "evalue": "division by zero",
          "output_type": "error",
          "traceback": [
            "\u001b[31m---------------------------------------------------------------------------\u001b[39m",
            "\u001b[31mZeroDivisionError\u001b[39m                         Traceback (most recent call last)",
            "\u001b[36mCell\u001b[39m\u001b[36m \u001b[39m\u001b[32mIn[6]\u001b[39m\u001b[32m, line 1\u001b[39m\n\u001b[32m----> \u001b[39m\u001b[32m1\u001b[39m \u001b[32;43m4\u001b[39;49m\u001b[43m/\u001b[49m\u001b[32;43m0\u001b[39;49m\n",
            "\u001b[31mZeroDivisionError\u001b[39m: division by zero"
          ]
        }
      ],
      "source": [
        "4/0"
      ]
    },
    {
      "cell_type": "code",
      "execution_count": 7,
      "metadata": {},
      "outputs": [
        {
          "ename": "NameError",
          "evalue": "name 'variable_a' is not defined",
          "output_type": "error",
          "traceback": [
            "\u001b[31m---------------------------------------------------------------------------\u001b[39m",
            "\u001b[31mNameError\u001b[39m                                 Traceback (most recent call last)",
            "\u001b[36mCell\u001b[39m\u001b[36m \u001b[39m\u001b[32mIn[7]\u001b[39m\u001b[32m, line 1\u001b[39m\n\u001b[32m----> \u001b[39m\u001b[32m1\u001b[39m \u001b[43mvariable_a\u001b[49m / variable_b\n",
            "\u001b[31mNameError\u001b[39m: name 'variable_a' is not defined"
          ]
        }
      ],
      "source": [
        "variable_a / variable_b"
      ]
    },
    {
      "cell_type": "code",
      "execution_count": null,
      "metadata": {
        "id": "w7gw5251oKLu"
      },
      "outputs": [],
      "source": [
        "# Hay valores que se salen del dominio de algunas funciones matemáticas,\n",
        "# como es el caso de las raices de números negativos\n"
      ]
    },
    {
      "cell_type": "code",
      "execution_count": 8,
      "metadata": {
        "id": "rDxXS97SoKLu"
      },
      "outputs": [
        {
          "ename": "ValueError",
          "evalue": "math domain error",
          "output_type": "error",
          "traceback": [
            "\u001b[31m---------------------------------------------------------------------------\u001b[39m",
            "\u001b[31mValueError\u001b[39m                                Traceback (most recent call last)",
            "\u001b[36mCell\u001b[39m\u001b[36m \u001b[39m\u001b[32mIn[8]\u001b[39m\u001b[32m, line 1\u001b[39m\n\u001b[32m----> \u001b[39m\u001b[32m1\u001b[39m \u001b[43mmath\u001b[49m\u001b[43m.\u001b[49m\u001b[43msqrt\u001b[49m\u001b[43m(\u001b[49m\u001b[43m-\u001b[49m\u001b[32;43m12\u001b[39;49m\u001b[43m)\u001b[49m\n",
            "\u001b[31mValueError\u001b[39m: math domain error"
          ]
        }
      ],
      "source": [
        "math.sqrt(-12)"
      ]
    },
    {
      "cell_type": "markdown",
      "metadata": {
        "id": "QCOz9IE4oKLu"
      },
      "source": [
        "## Operaciones comparativas\n",
        "[al indice](#Contenidos)  \n",
        "\n",
        "Es bastante intuitivo comparar valores en Python. La sintaxis es la siguiente:\n",
        "* `==`: Igualdad. No es un `=`. Hay que diferenciar entre una comparativa, y una asignación de valores\n",
        "* `!=`: Desigualdad\n",
        "* `>`: Mayor que\n",
        "* `<`: Menor que\n",
        "* `>=`: Mayor o igual que\n",
        "* `<=`: Menor o igual que"
      ]
    },
    {
      "cell_type": "markdown",
      "metadata": {
        "id": "68gibqGwoKLu"
      },
      "source": [
        "En la asignación estamos diciendole a Python que la variable `asign` vale 1, mientras que en la comparación, estamos preguntando a Python si `a` equivale a 5. Como vale 1, nos devuelve un `False`"
      ]
    },
    {
      "cell_type": "code",
      "execution_count": 10,
      "metadata": {
        "id": "7e-I25cHoKLu"
      },
      "outputs": [
        {
          "name": "stdout",
          "output_type": "stream",
          "text": [
            "1\n",
            "False\n",
            "1\n"
          ]
        }
      ],
      "source": [
        "# asignación\n",
        "asign = 1\n",
        "print(asign)\n",
        "\n",
        "# comparación\n",
        "print(asign==5)\n",
        "print(asign)"
      ]
    },
    {
      "cell_type": "markdown",
      "metadata": {
        "id": "5tGzqt6loKLu"
      },
      "source": [
        "Veamos otros ejemplos de comparaciones"
      ]
    },
    {
      "cell_type": "code",
      "execution_count": 15,
      "metadata": {
        "id": "v057shGQoKLu"
      },
      "outputs": [
        {
          "name": "stdout",
          "output_type": "stream",
          "text": [
            "False\n",
            "True\n",
            "True\n",
            "True\n",
            "False\n"
          ]
        }
      ],
      "source": [
        "print(\"AAA\" == \"BBB\")\n",
        "print(\"AAA\" == \"AAA\")\n",
        "print( 93 > 12)\n",
        "print( 1 == 1.0)\n",
        "print( 93 <= 12)"
      ]
    },
    {
      "cell_type": "markdown",
      "metadata": {
        "id": "1JTRtq1CoKLu"
      },
      "source": [
        "<table align=\"left\">\n",
        " <tr><td width=\"80\"><img src=\"./img/error.png\" style=\"width:auto;height:auto\"></td>\n",
        "     <td style=\"text-align:left\">\n",
        "         <h3>ERRORES en comparativas</h3>\n",
        "         \n",
        " </td></tr>\n",
        "</table>"
      ]
    },
    {
      "cell_type": "markdown",
      "metadata": {
        "id": "-vubEGKZoKLv"
      },
      "source": [
        "Este tipo de errores son muy comunes, pues es muy habitual comparar peras con manzanas. Cuando se trata de una igualdad (`==`), no suele haber problemas, ya que si las variables son de distinto tipo, simplemente es `False`. Lo ideal sería que Python nos avisase de estas cosas porque realmente lo estamos haciendo mal, no estamos comparando cosas del mismo tipo"
      ]
    },
    {
      "cell_type": "code",
      "execution_count": 17,
      "metadata": {
        "id": "NO6xcK20oKLv"
      },
      "outputs": [
        {
          "name": "stdout",
          "output_type": "stream",
          "text": [
            "False\n",
            "False\n"
          ]
        }
      ],
      "source": [
        "print(1 == \"1\")\n",
        "print(\"Hola\" == True)"
      ]
    },
    {
      "cell_type": "code",
      "execution_count": null,
      "metadata": {
        "id": "8yFPjcEOoKLv"
      },
      "outputs": [],
      "source": [
        "# Obtenemos un TypeError cuando la comparativa es de > o <\n"
      ]
    },
    {
      "cell_type": "code",
      "execution_count": 18,
      "metadata": {
        "id": "VFrKKr10oKLv"
      },
      "outputs": [
        {
          "ename": "TypeError",
          "evalue": "'>=' not supported between instances of 'str' and 'int'",
          "output_type": "error",
          "traceback": [
            "\u001b[31m---------------------------------------------------------------------------\u001b[39m",
            "\u001b[31mTypeError\u001b[39m                                 Traceback (most recent call last)",
            "\u001b[36mCell\u001b[39m\u001b[36m \u001b[39m\u001b[32mIn[18]\u001b[39m\u001b[32m, line 1\u001b[39m\n\u001b[32m----> \u001b[39m\u001b[32m1\u001b[39m \u001b[38;5;28mprint\u001b[39m(\u001b[33;43m\"\u001b[39;49m\u001b[33;43m17\u001b[39;49m\u001b[33;43m\"\u001b[39;49m\u001b[43m \u001b[49m\u001b[43m>\u001b[49m\u001b[43m=\u001b[49m\u001b[43m \u001b[49m\u001b[32;43m23\u001b[39;49m)\n",
            "\u001b[31mTypeError\u001b[39m: '>=' not supported between instances of 'str' and 'int'"
          ]
        }
      ],
      "source": [
        "print(\"17\" >= 23)"
      ]
    }
  ],
  "metadata": {
    "colab": {
      "include_colab_link": true,
      "provenance": []
    },
    "kernelspec": {
      "display_name": "Python 3",
      "language": "python",
      "name": "python3"
    },
    "language_info": {
      "codemirror_mode": {
        "name": "ipython",
        "version": 3
      },
      "file_extension": ".py",
      "mimetype": "text/x-python",
      "name": "python",
      "nbconvert_exporter": "python",
      "pygments_lexer": "ipython3",
      "version": "3.11.0"
    }
  },
  "nbformat": 4,
  "nbformat_minor": 0
}
